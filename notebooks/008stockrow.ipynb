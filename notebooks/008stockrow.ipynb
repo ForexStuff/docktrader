{
 "cells": [
  {
   "cell_type": "code",
   "execution_count": 1,
   "metadata": {},
   "outputs": [
    {
     "name": "stdout",
     "output_type": "stream",
     "text": [
      "Requirement already satisfied: wget in d:\\program\\winpython64-3760\\python-3.7.6.amd64\\lib\\site-packages (3.2)\n"
     ]
    },
    {
     "name": "stderr",
     "output_type": "stream",
     "text": [
      "WARNING: You are using pip version 19.3.1; however, version 20.0.2 is available.\n",
      "You should consider upgrading via the 'python -m pip install --upgrade pip' command.\n"
     ]
    }
   ],
   "source": [
    "import sys\n",
    "!{sys.executable} -m pip install wget\n",
    "import wget\n",
    "import pandas as pd\n",
    "import os\n",
    "import datetime\n",
    "import csv"
   ]
  },
  {
   "cell_type": "code",
   "execution_count": 2,
   "metadata": {},
   "outputs": [],
   "source": [
    "# list of tickers to be processed\n",
    "def GetStockTicker():\n",
    "    strTicker = []\n",
    "    strInput = input(\"Do you want to load sp500_constituents (y/n)?: \")\n",
    "    if strInput in ('y', 'Y'):\n",
    "        strStockFile = \"stockrow/sp500_constituents.csv\"\n",
    "        if os.path.exists(strStockFile) == True:\n",
    "            file=open(strStockFile, \"r\")\n",
    "            reader = csv.reader(file)\n",
    "            #skip header\n",
    "            next(reader) \n",
    "            for line in reader:\n",
    "                strTicker.append(line[0])\n",
    "        else:\n",
    "            print(\"Error: \" + strStockFile + \" undefined\")\n",
    "    elif strInput in ('n', 'N'):\n",
    "        strInput = input(\"Enter ticker(s) delimited by comma: \")\n",
    "        for ticker in strInput.split(','):\n",
    "            strTicker.append(ticker)\n",
    "    else:\n",
    "        print(\"Error: User response undefined\")\n",
    "    return strTicker\n"
   ]
  },
  {
   "cell_type": "code",
   "execution_count": 3,
   "metadata": {},
   "outputs": [],
   "source": [
    "# https://stockrow.com/api/companies/AAPL/financials.xlsx?dimension=A&section=Income%20Statement&sort=desc\n",
    "def StockRowPull(ticker, save_location):\n",
    "    # assert ticker is not empty\n",
    "    if len(strTicker) == 0:\n",
    "        return\n",
    "    \n",
    "    today = datetime.datetime.today()\n",
    "    # files are saved to subfolder \"yyyymm\", since fundamental data doesn't change regularly, \n",
    "    # we download files to monthly folders, e.g. 202001 for January 2020\n",
    "    path = save_location + '%02d' % today.year + '%02d' % today.month + '/'\n",
    "    \n",
    "    print('Beginning Download to ' + path)\n",
    "    for i in ticker:\n",
    "        #create the folder in which all of the dowloads will be saved\n",
    "        if not os.path.exists(path):\n",
    "            os.makedirs(path)\n",
    "        print('Processing ' + i)\n",
    "        #skip if ticker exists\n",
    "        if os.path.exists(path + i + '_Annual_Incomestatement.xlsx') == False:\n",
    "            #location of income statement\n",
    "            Income_url = 'https://stockrow.com/api/companies/' + i + '/financials.xlsx?dimension=A&section=Income%20Statement&sort=desc'\n",
    "            #download the income statement to previously specified location\n",
    "            try:\n",
    "                wget.download(Income_url, path + i + '_Annual_Incomestatement.xlsx', bar=None)\n",
    "            except:\n",
    "                print('Warning: Not Found ' + i + '_Annual_Incomestatement.xlsx')\n",
    "                \n",
    "        if os.path.exists(path + i + '_Annual_BalanceSheet.xlsx') == False:\n",
    "            #location of balance sheet\n",
    "            Balance_url = 'https://stockrow.com/api/companies/' + i + '/financials.xlsx?dimension=A&section=Balance%20Sheet&sort=desc'\n",
    "            #download the balance sheet\n",
    "            try:\n",
    "                wget.download(Balance_url, path + i + '_Annual_BalanceSheet.xlsx', bar=None)\n",
    "            except:\n",
    "                print('Warning: Not Found ' + i + '_Annual_BalanceSheet.xlsx')\n",
    "                \n",
    "        if os.path.exists(path + i + '_Annual_StatementofCashFlows.xlsx') == False:\n",
    "            #location of cash flows\n",
    "            Cash_url = 'https://stockrow.com/api/companies/' + i + '/financials.xlsx?dimension=A&section=Cash%20Flow&sort=desc'\n",
    "            #download cash flows\n",
    "            try:\n",
    "                wget.download(Cash_url, path + i + '_Annual_StatementofCashFlows.xlsx', bar=None)\n",
    "            except:\n",
    "                print('Warning: Not Found ' + i + '_Annual_StatementofCashFlows.xlsx')\n",
    "                \n",
    "        if os.path.exists(path + i + '_Annual_Metrics.xlsx') == False:\n",
    "            Metrics_url = 'https://stockrow.com/api/companies/' + i + '/financials.xlsx?dimension=A&section=Metrics&sort=desc'\n",
    "            #download cash flows\n",
    "            try:\n",
    "                wget.download(Metrics_url, path + i + '_Annual_Metrics.xlsx', bar=None)\n",
    "            except:\n",
    "                print('Warning: Not Found ' + i + '_Annual_Metrics.xlsx')\n",
    "                \n",
    "    print('Files Downloaded')"
   ]
  },
  {
   "cell_type": "code",
   "execution_count": 4,
   "metadata": {},
   "outputs": [
    {
     "name": "stdout",
     "output_type": "stream",
     "text": [
      "Do you want to load sp500_constituents (y/n)?: n\n",
      "Enter ticker(s) delimited by comma: CRWD,DESP,DXCM\n",
      "No. of tickers: 3\n",
      "Beginning Download to d:/denbrige/180 FxOption/103 FxOptionVerBack/083 FX-Git-Pull/14winpython/notebooks/stockrow/202002/\n",
      "Processing CRWD\n",
      "Warning: Not Found CRWD_Annual_Incomestatement.xlsx\n",
      "Processing DESP\n",
      "Processing DXCM\n",
      "Files Downloaded\n"
     ]
    }
   ],
   "source": [
    "strTicker = GetStockTicker()\n",
    "print('No. of tickers:', len(strTicker))\n",
    "StockRowPull(strTicker, save_location = 'd:/denbrige/180 FxOption/103 FxOptionVerBack/083 FX-Git-Pull/14winpython/notebooks/stockrow/')"
   ]
  },
  {
   "cell_type": "code",
   "execution_count": null,
   "metadata": {},
   "outputs": [],
   "source": []
  }
 ],
 "metadata": {
  "kernelspec": {
   "display_name": "Python 3",
   "language": "python",
   "name": "python3"
  },
  "language_info": {
   "codemirror_mode": {
    "name": "ipython",
    "version": 3
   },
   "file_extension": ".py",
   "mimetype": "text/x-python",
   "name": "python",
   "nbconvert_exporter": "python",
   "pygments_lexer": "ipython3",
   "version": "3.7.6"
  }
 },
 "nbformat": 4,
 "nbformat_minor": 2
}
