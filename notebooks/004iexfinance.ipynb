{
 "cells": [
  {
   "cell_type": "code",
   "execution_count": 1,
   "metadata": {},
   "outputs": [
    {
     "data": {
      "text/plain": [
       "['D:\\\\Program\\\\WinPython64-3760\\\\notebooks',\n",
       " 'D:\\\\Program\\\\WinPython64-3760\\\\python-3.7.6.amd64\\\\python37.zip',\n",
       " 'D:\\\\Program\\\\WinPython64-3760\\\\python-3.7.6.amd64\\\\DLLs',\n",
       " 'D:\\\\Program\\\\WinPython64-3760\\\\python-3.7.6.amd64\\\\lib',\n",
       " 'D:\\\\Program\\\\WinPython64-3760\\\\python-3.7.6.amd64',\n",
       " '',\n",
       " 'C:\\\\Users\\\\denbrige\\\\AppData\\\\Roaming\\\\Python\\\\Python37\\\\site-packages',\n",
       " 'D:\\\\Program\\\\WinPython64-3760\\\\python-3.7.6.amd64\\\\lib\\\\site-packages',\n",
       " 'D:\\\\Program\\\\WinPython64-3760\\\\python-3.7.6.amd64\\\\lib\\\\site-packages\\\\win32',\n",
       " 'D:\\\\Program\\\\WinPython64-3760\\\\python-3.7.6.amd64\\\\lib\\\\site-packages\\\\win32\\\\lib',\n",
       " 'D:\\\\Program\\\\WinPython64-3760\\\\python-3.7.6.amd64\\\\lib\\\\site-packages\\\\Pythonwin',\n",
       " 'D:\\\\Program\\\\WinPython64-3760\\\\python-3.7.6.amd64\\\\lib\\\\site-packages\\\\IPython\\\\extensions',\n",
       " 'D:\\\\Program\\\\WinPython64-3760\\\\settings\\\\.ipython']"
      ]
     },
     "execution_count": 1,
     "metadata": {},
     "output_type": "execute_result"
    }
   ],
   "source": [
    "import sys\n",
    "sys.path"
   ]
  },
  {
   "cell_type": "code",
   "execution_count": 2,
   "metadata": {},
   "outputs": [
    {
     "data": {
      "text/plain": [
       "['D:\\\\Program\\\\WinPython64-3760\\\\python-3.7.6.amd64\\\\lib\\\\site-packages\\\\backtrader']"
      ]
     },
     "execution_count": 2,
     "metadata": {},
     "output_type": "execute_result"
    }
   ],
   "source": [
    "import backtrader as bt\n",
    "bt.__path__"
   ]
  },
  {
   "cell_type": "code",
   "execution_count": 3,
   "metadata": {},
   "outputs": [
    {
     "name": "stdout",
     "output_type": "stream",
     "text": [
      "Requirement already satisfied: backtrader[plotting] in d:\\program\\winpython64-3760\\python-3.7.6.amd64\\lib\\site-packages (1.9.74.123)\n",
      "Requirement already satisfied: matplotlib; extra == \"plotting\" in d:\\program\\winpython64-3760\\python-3.7.6.amd64\\lib\\site-packages (from backtrader[plotting]) (3.2.0rc2)\n",
      "Requirement already satisfied: cycler>=0.10 in d:\\program\\winpython64-3760\\python-3.7.6.amd64\\lib\\site-packages (from matplotlib; extra == \"plotting\"->backtrader[plotting]) (0.10.0)\n",
      "Requirement already satisfied: kiwisolver>=1.0.1 in d:\\program\\winpython64-3760\\python-3.7.6.amd64\\lib\\site-packages (from matplotlib; extra == \"plotting\"->backtrader[plotting]) (1.1.0)\n",
      "Requirement already satisfied: pyparsing!=2.0.4,!=2.1.2,!=2.1.6,>=2.0.1 in d:\\program\\winpython64-3760\\python-3.7.6.amd64\\lib\\site-packages (from matplotlib; extra == \"plotting\"->backtrader[plotting]) (2.4.5)\n",
      "Requirement already satisfied: numpy>=1.11 in d:\\program\\winpython64-3760\\python-3.7.6.amd64\\lib\\site-packages (from matplotlib; extra == \"plotting\"->backtrader[plotting]) (1.17.0)\n",
      "Requirement already satisfied: python-dateutil>=2.1 in d:\\program\\winpython64-3760\\python-3.7.6.amd64\\lib\\site-packages (from matplotlib; extra == \"plotting\"->backtrader[plotting]) (2.8.1)\n",
      "Requirement already satisfied: six in c:\\users\\denbrige\\appdata\\roaming\\python\\python37\\site-packages (from cycler>=0.10->matplotlib; extra == \"plotting\"->backtrader[plotting]) (1.12.0)\n",
      "Requirement already satisfied: setuptools in d:\\program\\winpython64-3760\\python-3.7.6.amd64\\lib\\site-packages (from kiwisolver>=1.0.1->matplotlib; extra == \"plotting\"->backtrader[plotting]) (42.0.2)\n"
     ]
    }
   ],
   "source": [
    "import sys\n",
    "!{sys.executable} -m pip install backtrader[plotting]"
   ]
  },
  {
   "cell_type": "code",
   "execution_count": 12,
   "metadata": {},
   "outputs": [
    {
     "name": "stdout",
     "output_type": "stream",
     "text": [
      "D:\\Program\\WinPython64-3760\\notebooks\n"
     ]
    }
   ],
   "source": [
    "import json\n",
    "import os\n",
    "print(os.getcwd())\n",
    "strRoot='D:\\\\denbrige\\\\180 FxOption\\\\103 FxOptionVerBack\\\\083 FX-Git-Pull\\\\14docktrader\\\\config\\\\'\n",
    "with open(strRoot + 'iex.conf') as fJsn:\n",
    "    jsnIEX = json.load(fJsn)"
   ]
  },
  {
   "cell_type": "code",
   "execution_count": 4,
   "metadata": {},
   "outputs": [
    {
     "name": "stdout",
     "output_type": "stream",
     "text": [
      "Requirement already up-to-date: pip in d:\\program\\winpython64-3760\\python-3.7.6.amd64\\lib\\site-packages (20.0.2)\n",
      "Requirement already satisfied: iexfinance in d:\\program\\winpython64-3760\\python-3.7.6.amd64\\lib\\site-packages (0.4.3)\n",
      "Requirement already satisfied: requests in d:\\program\\winpython64-3760\\python-3.7.6.amd64\\lib\\site-packages (from iexfinance) (2.22.0)\n",
      "Requirement already satisfied: pandas in d:\\program\\winpython64-3760\\python-3.7.6.amd64\\lib\\site-packages (from iexfinance) (0.25.3)\n",
      "Requirement already satisfied: idna in d:\\program\\winpython64-3760\\python-3.7.6.amd64\\lib\\site-packages (from requests->iexfinance) (2.8)\n",
      "Requirement already satisfied: certifi in d:\\program\\winpython64-3760\\python-3.7.6.amd64\\lib\\site-packages (from requests->iexfinance) (2019.11.28)\n",
      "Requirement already satisfied: urllib3 in d:\\program\\winpython64-3760\\python-3.7.6.amd64\\lib\\site-packages (from requests->iexfinance) (1.25.7)\n",
      "Requirement already satisfied: chardet in d:\\program\\winpython64-3760\\python-3.7.6.amd64\\lib\\site-packages (from requests->iexfinance) (3.0.4)\n",
      "Requirement already satisfied: python-dateutil>=2.6.1 in d:\\program\\winpython64-3760\\python-3.7.6.amd64\\lib\\site-packages (from pandas->iexfinance) (2.8.1)\n",
      "Requirement already satisfied: numpy>=1.13.3 in d:\\program\\winpython64-3760\\python-3.7.6.amd64\\lib\\site-packages (from pandas->iexfinance) (1.17.0)\n",
      "Requirement already satisfied: pytz>=2017.2 in d:\\program\\winpython64-3760\\python-3.7.6.amd64\\lib\\site-packages (from pandas->iexfinance) (2019.3)\n",
      "Requirement already satisfied: six>=1.5 in c:\\users\\denbrige\\appdata\\roaming\\python\\python37\\site-packages (from python-dateutil>=2.6.1->pandas->iexfinance) (1.12.0)\n"
     ]
    },
    {
     "data": {
      "text/html": [
       "<div>\n",
       "<style scoped>\n",
       "    .dataframe tbody tr th:only-of-type {\n",
       "        vertical-align: middle;\n",
       "    }\n",
       "\n",
       "    .dataframe tbody tr th {\n",
       "        vertical-align: top;\n",
       "    }\n",
       "\n",
       "    .dataframe thead tr th {\n",
       "        text-align: left;\n",
       "    }\n",
       "</style>\n",
       "<table border=\"1\" class=\"dataframe\">\n",
       "  <thead>\n",
       "    <tr>\n",
       "      <th></th>\n",
       "      <th>AAPL</th>\n",
       "    </tr>\n",
       "    <tr>\n",
       "      <th></th>\n",
       "      <th>2019-12-31</th>\n",
       "    </tr>\n",
       "  </thead>\n",
       "  <tbody>\n",
       "    <tr>\n",
       "      <th>accountsPayable</th>\n",
       "      <td>45111000000</td>\n",
       "    </tr>\n",
       "    <tr>\n",
       "      <th>capitalSurplus</th>\n",
       "      <td>None</td>\n",
       "    </tr>\n",
       "    <tr>\n",
       "      <th>commonStock</th>\n",
       "      <td>4384959000</td>\n",
       "    </tr>\n",
       "    <tr>\n",
       "      <th>currentAssets</th>\n",
       "      <td>163231000000</td>\n",
       "    </tr>\n",
       "    <tr>\n",
       "      <th>currentCash</th>\n",
       "      <td>22986000000</td>\n",
       "    </tr>\n",
       "    <tr>\n",
       "      <th>currentLongTermDebt</th>\n",
       "      <td>10238000000</td>\n",
       "    </tr>\n",
       "    <tr>\n",
       "      <th>goodwill</th>\n",
       "      <td>None</td>\n",
       "    </tr>\n",
       "    <tr>\n",
       "      <th>intangibleAssets</th>\n",
       "      <td>None</td>\n",
       "    </tr>\n",
       "    <tr>\n",
       "      <th>inventory</th>\n",
       "      <td>4097000000</td>\n",
       "    </tr>\n",
       "    <tr>\n",
       "      <th>longTermDebt</th>\n",
       "      <td>100278000000</td>\n",
       "    </tr>\n",
       "    <tr>\n",
       "      <th>longTermInvestments</th>\n",
       "      <td>101725000000</td>\n",
       "    </tr>\n",
       "    <tr>\n",
       "      <th>minorityInterest</th>\n",
       "      <td>0</td>\n",
       "    </tr>\n",
       "    <tr>\n",
       "      <th>netTangibleAssets</th>\n",
       "      <td>89531000000</td>\n",
       "    </tr>\n",
       "    <tr>\n",
       "      <th>otherAssets</th>\n",
       "      <td>31369000000</td>\n",
       "    </tr>\n",
       "    <tr>\n",
       "      <th>otherCurrentAssets</th>\n",
       "      <td>11958000000</td>\n",
       "    </tr>\n",
       "    <tr>\n",
       "      <th>otherCurrentLiabilities</th>\n",
       "      <td>40577000000</td>\n",
       "    </tr>\n",
       "    <tr>\n",
       "      <th>otherLiabilities</th>\n",
       "      <td>2550000000</td>\n",
       "    </tr>\n",
       "    <tr>\n",
       "      <th>propertyPlantEquipment</th>\n",
       "      <td>44293000000</td>\n",
       "    </tr>\n",
       "    <tr>\n",
       "      <th>receivables</th>\n",
       "      <td>20970000000</td>\n",
       "    </tr>\n",
       "    <tr>\n",
       "      <th>reportDate</th>\n",
       "      <td>2019-12-31</td>\n",
       "    </tr>\n",
       "    <tr>\n",
       "      <th>retainedEarnings</th>\n",
       "      <td>43977000000</td>\n",
       "    </tr>\n",
       "    <tr>\n",
       "      <th>shareholderEquity</th>\n",
       "      <td>89531000000</td>\n",
       "    </tr>\n",
       "    <tr>\n",
       "      <th>shortTermInvestments</th>\n",
       "      <td>84244000000</td>\n",
       "    </tr>\n",
       "    <tr>\n",
       "      <th>totalAssets</th>\n",
       "      <td>340618000000</td>\n",
       "    </tr>\n",
       "    <tr>\n",
       "      <th>totalCurrentLiabilities</th>\n",
       "      <td>102161000000</td>\n",
       "    </tr>\n",
       "    <tr>\n",
       "      <th>totalLiabilities</th>\n",
       "      <td>251087000000</td>\n",
       "    </tr>\n",
       "    <tr>\n",
       "      <th>treasuryStock</th>\n",
       "      <td>None</td>\n",
       "    </tr>\n",
       "  </tbody>\n",
       "</table>\n",
       "</div>"
      ],
      "text/plain": [
       "                                 AAPL\n",
       "                           2019-12-31\n",
       "accountsPayable           45111000000\n",
       "capitalSurplus                   None\n",
       "commonStock                4384959000\n",
       "currentAssets            163231000000\n",
       "currentCash               22986000000\n",
       "currentLongTermDebt       10238000000\n",
       "goodwill                         None\n",
       "intangibleAssets                 None\n",
       "inventory                  4097000000\n",
       "longTermDebt             100278000000\n",
       "longTermInvestments      101725000000\n",
       "minorityInterest                    0\n",
       "netTangibleAssets         89531000000\n",
       "otherAssets               31369000000\n",
       "otherCurrentAssets        11958000000\n",
       "otherCurrentLiabilities   40577000000\n",
       "otherLiabilities           2550000000\n",
       "propertyPlantEquipment    44293000000\n",
       "receivables               20970000000\n",
       "reportDate                 2019-12-31\n",
       "retainedEarnings          43977000000\n",
       "shareholderEquity         89531000000\n",
       "shortTermInvestments      84244000000\n",
       "totalAssets              340618000000\n",
       "totalCurrentLiabilities  102161000000\n",
       "totalLiabilities         251087000000\n",
       "treasuryStock                    None"
      ]
     },
     "execution_count": 4,
     "metadata": {},
     "output_type": "execute_result"
    }
   ],
   "source": [
    "import sys\n",
    "!{sys.executable} -m pip install --upgrade pip\n",
    "!{sys.executable} -m pip install iexfinance\n",
    "from iexfinance.stocks import Stock\n",
    "objAapl = Stock(\"AAPL\", output_format='pandas', token=jsnIEX['iextoken'])\n",
    "objAapl.get_balance_sheet()"
   ]
  },
  {
   "cell_type": "code",
   "execution_count": null,
   "metadata": {},
   "outputs": [],
   "source": []
  }
 ],
 "metadata": {
  "kernelspec": {
   "display_name": "Python 3",
   "language": "python",
   "name": "python3"
  },
  "language_info": {
   "codemirror_mode": {
    "name": "ipython",
    "version": 3
   },
   "file_extension": ".py",
   "mimetype": "text/x-python",
   "name": "python",
   "nbconvert_exporter": "python",
   "pygments_lexer": "ipython3",
   "version": "3.7.7"
  }
 },
 "nbformat": 4,
 "nbformat_minor": 2
}
