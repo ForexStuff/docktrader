{
 "cells": [
  {
   "cell_type": "code",
   "execution_count": 1,
   "metadata": {},
   "outputs": [
    {
     "data": {
      "text/plain": [
       "['D:\\\\Program\\\\WinPython64-3760\\\\notebooks',\n",
       " 'D:\\\\Program\\\\WinPython64-3760\\\\python-3.7.6.amd64\\\\python37.zip',\n",
       " 'D:\\\\Program\\\\WinPython64-3760\\\\python-3.7.6.amd64\\\\DLLs',\n",
       " 'D:\\\\Program\\\\WinPython64-3760\\\\python-3.7.6.amd64\\\\lib',\n",
       " 'D:\\\\Program\\\\WinPython64-3760\\\\python-3.7.6.amd64',\n",
       " '',\n",
       " 'C:\\\\Users\\\\denbrige\\\\AppData\\\\Roaming\\\\Python\\\\Python37\\\\site-packages',\n",
       " 'D:\\\\Program\\\\WinPython64-3760\\\\python-3.7.6.amd64\\\\lib\\\\site-packages',\n",
       " 'D:\\\\Program\\\\WinPython64-3760\\\\python-3.7.6.amd64\\\\lib\\\\site-packages\\\\win32',\n",
       " 'D:\\\\Program\\\\WinPython64-3760\\\\python-3.7.6.amd64\\\\lib\\\\site-packages\\\\win32\\\\lib',\n",
       " 'D:\\\\Program\\\\WinPython64-3760\\\\python-3.7.6.amd64\\\\lib\\\\site-packages\\\\Pythonwin',\n",
       " 'D:\\\\Program\\\\WinPython64-3760\\\\python-3.7.6.amd64\\\\lib\\\\site-packages\\\\IPython\\\\extensions',\n",
       " 'D:\\\\Program\\\\WinPython64-3760\\\\settings\\\\.ipython']"
      ]
     },
     "execution_count": 1,
     "metadata": {},
     "output_type": "execute_result"
    }
   ],
   "source": [
    "import sys\n",
    "sys.path"
   ]
  },
  {
   "cell_type": "code",
   "execution_count": 2,
   "metadata": {},
   "outputs": [
    {
     "data": {
      "text/plain": [
       "['D:\\\\Program\\\\WinPython64-3760\\\\python-3.7.6.amd64\\\\lib\\\\site-packages\\\\backtrader']"
      ]
     },
     "execution_count": 2,
     "metadata": {},
     "output_type": "execute_result"
    }
   ],
   "source": [
    "import backtrader as bt\n",
    "bt.__path__"
   ]
  },
  {
   "cell_type": "code",
   "execution_count": 3,
   "metadata": {},
   "outputs": [
    {
     "name": "stdout",
     "output_type": "stream",
     "text": [
      "Requirement already satisfied: backtrader[plotting] in d:\\program\\winpython64-3760\\python-3.7.6.amd64\\lib\\site-packages (1.9.74.123)\n",
      "Requirement already satisfied: matplotlib; extra == \"plotting\" in d:\\program\\winpython64-3760\\python-3.7.6.amd64\\lib\\site-packages (from backtrader[plotting]) (3.2.0rc2)\n",
      "Requirement already satisfied: cycler>=0.10 in d:\\program\\winpython64-3760\\python-3.7.6.amd64\\lib\\site-packages (from matplotlib; extra == \"plotting\"->backtrader[plotting]) (0.10.0)\n",
      "Requirement already satisfied: python-dateutil>=2.1 in d:\\program\\winpython64-3760\\python-3.7.6.amd64\\lib\\site-packages (from matplotlib; extra == \"plotting\"->backtrader[plotting]) (2.8.1)\n",
      "Requirement already satisfied: pyparsing!=2.0.4,!=2.1.2,!=2.1.6,>=2.0.1 in d:\\program\\winpython64-3760\\python-3.7.6.amd64\\lib\\site-packages (from matplotlib; extra == \"plotting\"->backtrader[plotting]) (2.4.5)\n",
      "Requirement already satisfied: numpy>=1.11 in d:\\program\\winpython64-3760\\python-3.7.6.amd64\\lib\\site-packages (from matplotlib; extra == \"plotting\"->backtrader[plotting]) (1.17.0)\n",
      "Requirement already satisfied: kiwisolver>=1.0.1 in d:\\program\\winpython64-3760\\python-3.7.6.amd64\\lib\\site-packages (from matplotlib; extra == \"plotting\"->backtrader[plotting]) (1.1.0)\n",
      "Requirement already satisfied: six in c:\\users\\denbrige\\appdata\\roaming\\python\\python37\\site-packages (from cycler>=0.10->matplotlib; extra == \"plotting\"->backtrader[plotting]) (1.12.0)\n",
      "Requirement already satisfied: setuptools in d:\\program\\winpython64-3760\\python-3.7.6.amd64\\lib\\site-packages (from kiwisolver>=1.0.1->matplotlib; extra == \"plotting\"->backtrader[plotting]) (42.0.2)\n"
     ]
    }
   ],
   "source": [
    "import sys\n",
    "!{sys.executable} -m pip install backtrader[plotting]"
   ]
  },
  {
   "cell_type": "code",
   "execution_count": 4,
   "metadata": {},
   "outputs": [
    {
     "name": "stdout",
     "output_type": "stream",
     "text": [
      "Requirement already satisfied: pyEX in d:\\program\\winpython64-3760\\python-3.7.6.amd64\\lib\\site-packages (0.1.16)\n",
      "Requirement already satisfied: socketIO-client-nexus>=0.7.6 in d:\\program\\winpython64-3760\\python-3.7.6.amd64\\lib\\site-packages (from pyEX) (0.7.6)\n",
      "Requirement already satisfied: pandas>=0.22 in d:\\program\\winpython64-3760\\python-3.7.6.amd64\\lib\\site-packages (from pyEX) (0.25.3)\n",
      "Requirement already satisfied: deprecation>=2.0.6 in d:\\program\\winpython64-3760\\python-3.7.6.amd64\\lib\\site-packages (from pyEX) (2.0.7)\n",
      "Requirement already satisfied: requests>=2.21.0 in d:\\program\\winpython64-3760\\python-3.7.6.amd64\\lib\\site-packages (from pyEX) (2.22.0)\n",
      "Requirement already satisfied: sseclient>=0.0.22 in d:\\program\\winpython64-3760\\python-3.7.6.amd64\\lib\\site-packages (from pyEX) (0.0.24)\n",
      "Requirement already satisfied: ipython>=7.2.0 in d:\\program\\winpython64-3760\\python-3.7.6.amd64\\lib\\site-packages (from pyEX) (7.10.2)\n",
      "Requirement already satisfied: Pillow>=5.3.0 in d:\\program\\winpython64-3760\\python-3.7.6.amd64\\lib\\site-packages (from pyEX) (6.2.1)\n",
      "Requirement already satisfied: websocket-client in d:\\program\\winpython64-3760\\python-3.7.6.amd64\\lib\\site-packages (from socketIO-client-nexus>=0.7.6->pyEX) (0.57.0)\n",
      "Requirement already satisfied: six in c:\\users\\denbrige\\appdata\\roaming\\python\\python37\\site-packages (from socketIO-client-nexus>=0.7.6->pyEX) (1.12.0)\n",
      "Requirement already satisfied: pytz>=2017.2 in d:\\program\\winpython64-3760\\python-3.7.6.amd64\\lib\\site-packages (from pandas>=0.22->pyEX) (2019.3)\n",
      "Requirement already satisfied: python-dateutil>=2.6.1 in d:\\program\\winpython64-3760\\python-3.7.6.amd64\\lib\\site-packages (from pandas>=0.22->pyEX) (2.8.1)\n",
      "Requirement already satisfied: numpy>=1.13.3 in d:\\program\\winpython64-3760\\python-3.7.6.amd64\\lib\\site-packages (from pandas>=0.22->pyEX) (1.17.0)\n",
      "Requirement already satisfied: packaging in d:\\program\\winpython64-3760\\python-3.7.6.amd64\\lib\\site-packages (from deprecation>=2.0.6->pyEX) (19.2)\n",
      "Requirement already satisfied: certifi in d:\\program\\winpython64-3760\\python-3.7.6.amd64\\lib\\site-packages (from requests>=2.21.0->pyEX) (2019.11.28)\n",
      "Requirement already satisfied: chardet in d:\\program\\winpython64-3760\\python-3.7.6.amd64\\lib\\site-packages (from requests>=2.21.0->pyEX) (3.0.4)\n",
      "Requirement already satisfied: idna in d:\\program\\winpython64-3760\\python-3.7.6.amd64\\lib\\site-packages (from requests>=2.21.0->pyEX) (2.8)\n",
      "Requirement already satisfied: urllib3 in d:\\program\\winpython64-3760\\python-3.7.6.amd64\\lib\\site-packages (from requests>=2.21.0->pyEX) (1.25.7)\n",
      "Requirement already satisfied: pickleshare in d:\\program\\winpython64-3760\\python-3.7.6.amd64\\lib\\site-packages (from ipython>=7.2.0->pyEX) (0.7.5)\n",
      "Requirement already satisfied: jedi>=0.10 in d:\\program\\winpython64-3760\\python-3.7.6.amd64\\lib\\site-packages (from ipython>=7.2.0->pyEX) (0.15.2)\n",
      "Requirement already satisfied: decorator in d:\\program\\winpython64-3760\\python-3.7.6.amd64\\lib\\site-packages (from ipython>=7.2.0->pyEX) (4.4.1)\n",
      "Requirement already satisfied: pygments in d:\\program\\winpython64-3760\\python-3.7.6.amd64\\lib\\site-packages (from ipython>=7.2.0->pyEX) (2.5.2)\n",
      "Requirement already satisfied: backcall in d:\\program\\winpython64-3760\\python-3.7.6.amd64\\lib\\site-packages (from ipython>=7.2.0->pyEX) (0.1.0)\n",
      "Requirement already satisfied: setuptools>=18.5 in d:\\program\\winpython64-3760\\python-3.7.6.amd64\\lib\\site-packages (from ipython>=7.2.0->pyEX) (42.0.2)\n",
      "Requirement already satisfied: colorama; sys_platform == \"win32\" in c:\\users\\denbrige\\appdata\\roaming\\python\\python37\\site-packages (from ipython>=7.2.0->pyEX) (0.4.1)\n",
      "Requirement already satisfied: traitlets>=4.2 in d:\\program\\winpython64-3760\\python-3.7.6.amd64\\lib\\site-packages (from ipython>=7.2.0->pyEX) (4.3.3)\n",
      "Requirement already satisfied: prompt-toolkit!=3.0.0,!=3.0.1,<3.1.0,>=2.0.0 in d:\\program\\winpython64-3760\\python-3.7.6.amd64\\lib\\site-packages (from ipython>=7.2.0->pyEX) (2.0.10)\n",
      "Requirement already satisfied: pyparsing>=2.0.2 in d:\\program\\winpython64-3760\\python-3.7.6.amd64\\lib\\site-packages (from packaging->deprecation>=2.0.6->pyEX) (2.4.5)\n",
      "Requirement already satisfied: parso>=0.5.2 in d:\\program\\winpython64-3760\\python-3.7.6.amd64\\lib\\site-packages (from jedi>=0.10->ipython>=7.2.0->pyEX) (0.5.2)\n",
      "Requirement already satisfied: ipython-genutils in d:\\program\\winpython64-3760\\python-3.7.6.amd64\\lib\\site-packages (from traitlets>=4.2->ipython>=7.2.0->pyEX) (0.2.0)\n",
      "Requirement already satisfied: wcwidth in d:\\program\\winpython64-3760\\python-3.7.6.amd64\\lib\\site-packages (from prompt-toolkit!=3.0.0,!=3.0.1,<3.1.0,>=2.0.0->ipython>=7.2.0->pyEX) (0.1.7)\n"
     ]
    },
    {
     "data": {
      "text/html": [
       "<div>\n",
       "<style scoped>\n",
       "    .dataframe tbody tr th:only-of-type {\n",
       "        vertical-align: middle;\n",
       "    }\n",
       "\n",
       "    .dataframe tbody tr th {\n",
       "        vertical-align: top;\n",
       "    }\n",
       "\n",
       "    .dataframe thead th {\n",
       "        text-align: right;\n",
       "    }\n",
       "</style>\n",
       "<table border=\"1\" class=\"dataframe\">\n",
       "  <thead>\n",
       "    <tr style=\"text-align: right;\">\n",
       "      <th></th>\n",
       "      <th>companyName</th>\n",
       "      <th>exchange</th>\n",
       "      <th>industry</th>\n",
       "      <th>website</th>\n",
       "      <th>description</th>\n",
       "      <th>CEO</th>\n",
       "      <th>securityName</th>\n",
       "      <th>issueType</th>\n",
       "      <th>sector</th>\n",
       "      <th>primarySicCode</th>\n",
       "      <th>employees</th>\n",
       "      <th>tags</th>\n",
       "      <th>address</th>\n",
       "      <th>address2</th>\n",
       "      <th>state</th>\n",
       "      <th>city</th>\n",
       "      <th>zip</th>\n",
       "      <th>country</th>\n",
       "      <th>phone</th>\n",
       "    </tr>\n",
       "    <tr>\n",
       "      <th>symbol</th>\n",
       "      <th></th>\n",
       "      <th></th>\n",
       "      <th></th>\n",
       "      <th></th>\n",
       "      <th></th>\n",
       "      <th></th>\n",
       "      <th></th>\n",
       "      <th></th>\n",
       "      <th></th>\n",
       "      <th></th>\n",
       "      <th></th>\n",
       "      <th></th>\n",
       "      <th></th>\n",
       "      <th></th>\n",
       "      <th></th>\n",
       "      <th></th>\n",
       "      <th></th>\n",
       "      <th></th>\n",
       "      <th></th>\n",
       "    </tr>\n",
       "  </thead>\n",
       "  <tbody>\n",
       "    <tr>\n",
       "      <th>AAPL</th>\n",
       "      <td>Apple, Inc.</td>\n",
       "      <td>NASDAQ</td>\n",
       "      <td>Telecommunications Equipment</td>\n",
       "      <td>http://www.apple.com</td>\n",
       "      <td>Apple, Inc. engages in the design, manufacture...</td>\n",
       "      <td>Timothy Donald Cook</td>\n",
       "      <td>Apple Inc.</td>\n",
       "      <td>cs</td>\n",
       "      <td>Electronic Technology</td>\n",
       "      <td>3663</td>\n",
       "      <td>137000</td>\n",
       "      <td>[Electronic Technology, Telecommunications Equ...</td>\n",
       "      <td>One Apple Park Way</td>\n",
       "      <td>None</td>\n",
       "      <td>CA</td>\n",
       "      <td>Cupertino</td>\n",
       "      <td>95014-2083</td>\n",
       "      <td>US</td>\n",
       "      <td>1.408.996.1010</td>\n",
       "    </tr>\n",
       "  </tbody>\n",
       "</table>\n",
       "</div>"
      ],
      "text/plain": [
       "        companyName exchange                      industry  \\\n",
       "symbol                                                       \n",
       "AAPL    Apple, Inc.   NASDAQ  Telecommunications Equipment   \n",
       "\n",
       "                     website  \\\n",
       "symbol                         \n",
       "AAPL    http://www.apple.com   \n",
       "\n",
       "                                              description  \\\n",
       "symbol                                                      \n",
       "AAPL    Apple, Inc. engages in the design, manufacture...   \n",
       "\n",
       "                        CEO securityName issueType                 sector  \\\n",
       "symbol                                                                      \n",
       "AAPL    Timothy Donald Cook   Apple Inc.        cs  Electronic Technology   \n",
       "\n",
       "        primarySicCode  employees  \\\n",
       "symbol                              \n",
       "AAPL              3663     137000   \n",
       "\n",
       "                                                     tags             address  \\\n",
       "symbol                                                                          \n",
       "AAPL    [Electronic Technology, Telecommunications Equ...  One Apple Park Way   \n",
       "\n",
       "       address2 state       city         zip country           phone  \n",
       "symbol                                                                \n",
       "AAPL       None    CA  Cupertino  95014-2083      US  1.408.996.1010  "
      ]
     },
     "execution_count": 4,
     "metadata": {},
     "output_type": "execute_result"
    }
   ],
   "source": [
    "import sys\n",
    "!{sys.executable} -m pip install pyEX\n",
    "import pyEX\n",
    "import json\n",
    "import os\n",
    "strRoot='D:\\\\denbrige\\\\180 FxOption\\\\103 FxOptionVerBack\\\\083 FX-Git-Pull\\\\14docktrader\\\\config\\\\'\n",
    "with open(strRoot + 'iex.conf') as fJsn:\n",
    "    jsnIEX = json.load(fJsn)\n",
    "strVersion = 'v1'\n",
    "objEx = pyEX.Client(api_token=jsnIEX['iextoken'], version=strVersion)\n",
    "objEx.companyDF('AAPL')"
   ]
  },
  {
   "cell_type": "code",
   "execution_count": 5,
   "metadata": {},
   "outputs": [
    {
     "data": {
      "text/html": [
       "<div>\n",
       "<style scoped>\n",
       "    .dataframe tbody tr th:only-of-type {\n",
       "        vertical-align: middle;\n",
       "    }\n",
       "\n",
       "    .dataframe tbody tr th {\n",
       "        vertical-align: top;\n",
       "    }\n",
       "\n",
       "    .dataframe thead th {\n",
       "        text-align: right;\n",
       "    }\n",
       "</style>\n",
       "<table border=\"1\" class=\"dataframe\">\n",
       "  <thead>\n",
       "    <tr style=\"text-align: right;\">\n",
       "      <th></th>\n",
       "      <th>actualEPS</th>\n",
       "      <th>consensusEPS</th>\n",
       "      <th>announceTime</th>\n",
       "      <th>numberOfEstimates</th>\n",
       "      <th>EPSSurpriseDollar</th>\n",
       "      <th>fiscalPeriod</th>\n",
       "      <th>fiscalEndDate</th>\n",
       "      <th>yearAgo</th>\n",
       "      <th>yearAgoChangePercent</th>\n",
       "      <th>currency</th>\n",
       "      <th>symbol</th>\n",
       "    </tr>\n",
       "    <tr>\n",
       "      <th>EPSReportDate</th>\n",
       "      <th></th>\n",
       "      <th></th>\n",
       "      <th></th>\n",
       "      <th></th>\n",
       "      <th></th>\n",
       "      <th></th>\n",
       "      <th></th>\n",
       "      <th></th>\n",
       "      <th></th>\n",
       "      <th></th>\n",
       "      <th></th>\n",
       "    </tr>\n",
       "  </thead>\n",
       "  <tbody>\n",
       "    <tr>\n",
       "      <th>2020-01-28</th>\n",
       "      <td>4.99</td>\n",
       "      <td>4.54</td>\n",
       "      <td>AMC</td>\n",
       "      <td>38</td>\n",
       "      <td>0.45</td>\n",
       "      <td>Q4 2019</td>\n",
       "      <td>2019-12-31</td>\n",
       "      <td>4.18</td>\n",
       "      <td>0.1938</td>\n",
       "      <td>USD</td>\n",
       "      <td>AAPL</td>\n",
       "    </tr>\n",
       "  </tbody>\n",
       "</table>\n",
       "</div>"
      ],
      "text/plain": [
       "               actualEPS  consensusEPS announceTime  numberOfEstimates  \\\n",
       "EPSReportDate                                                            \n",
       "2020-01-28          4.99          4.54          AMC                 38   \n",
       "\n",
       "               EPSSurpriseDollar fiscalPeriod fiscalEndDate  yearAgo  \\\n",
       "EPSReportDate                                                          \n",
       "2020-01-28                  0.45      Q4 2019    2019-12-31     4.18   \n",
       "\n",
       "               yearAgoChangePercent currency symbol  \n",
       "EPSReportDate                                        \n",
       "2020-01-28                   0.1938      USD   AAPL  "
      ]
     },
     "execution_count": 5,
     "metadata": {},
     "output_type": "execute_result"
    }
   ],
   "source": [
    "objEx.earningsDF('AAPL')"
   ]
  },
  {
   "cell_type": "code",
   "execution_count": 29,
   "metadata": {},
   "outputs": [],
   "source": [
    "# unfortunately, pyex has the same issue as iexfinance where you cannot retrieve past historical earnings, cf, bs"
   ]
  }
 ],
 "metadata": {
  "kernelspec": {
   "display_name": "Python 3",
   "language": "python",
   "name": "python3"
  },
  "language_info": {
   "codemirror_mode": {
    "name": "ipython",
    "version": 3
   },
   "file_extension": ".py",
   "mimetype": "text/x-python",
   "name": "python",
   "nbconvert_exporter": "python",
   "pygments_lexer": "ipython3",
   "version": "3.7.6"
  }
 },
 "nbformat": 4,
 "nbformat_minor": 2
}
